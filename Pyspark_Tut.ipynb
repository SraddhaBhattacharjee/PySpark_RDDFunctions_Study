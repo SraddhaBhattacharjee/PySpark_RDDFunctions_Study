{
  "cells": [
    {
      "cell_type": "code",
      "execution_count": 1,
      "metadata": {
        "id": "GmMeGIaFEQJp"
      },
      "outputs": [],
      "source": [
        "import pyspark.sql"
      ]
    },
    {
      "cell_type": "code",
      "execution_count": 2,
      "metadata": {
        "id": "Odiam8gGEQJr"
      },
      "outputs": [],
      "source": [
        "from pyspark.sql import SparkSession"
      ]
    },
    {
      "cell_type": "code",
      "execution_count": 3,
      "metadata": {
        "id": "ff46nj6LEQJs"
      },
      "outputs": [],
      "source": [
        "spark = SparkSession.builder.appName(\"RDD_Functions_Demo\").master(\"local[*]\").getOrCreate()"
      ]
    },
    {
      "cell_type": "code",
      "execution_count": 4,
      "metadata": {
        "id": "wH0Wwey9EQJs"
      },
      "outputs": [],
      "source": [
        "sc = spark.sparkContext"
      ]
    },
    {
      "cell_type": "code",
      "execution_count": 13,
      "metadata": {
        "id": "u_SK1bckEQJs"
      },
      "outputs": [],
      "source": [
        "# Sample data\n",
        "data = [(\"Alice\", 23), (\"Bob\", 45), (\"Cathy\", 29), (\"Alice\", 30), (\"Bob\", 32), (\"Alice\", 30)]"
      ]
    },
    {
      "cell_type": "code",
      "execution_count": 14,
      "metadata": {
        "colab": {
          "base_uri": "https://localhost:8080/"
        },
        "id": "Jns1lPwFEQJt",
        "outputId": "f15e995c-a484-4b3b-f54a-baa64fa387b7"
      },
      "outputs": [
        {
          "output_type": "stream",
          "name": "stdout",
          "text": [
            "Original RDD:\n",
            "[('Alice', 23), ('Bob', 45), ('Cathy', 29), ('Alice', 30), ('Bob', 32), ('Alice', 30)]\n"
          ]
        }
      ],
      "source": [
        "# Step 1: Create an RDD\n",
        "rdd = sc.parallelize(data)\n",
        "print(\"Original RDD:\")\n",
        "print(rdd.collect())"
      ]
    },
    {
      "cell_type": "code",
      "source": [
        "# Create an RDD\n",
        "rdd = sc.parallelize(data)"
      ],
      "metadata": {
        "id": "jUbCQ3CdEYL1"
      },
      "execution_count": 15,
      "outputs": []
    },
    {
      "cell_type": "code",
      "source": [
        "# 1. map(): Transform each element\n",
        "mapped_rdd = rdd.map(lambda x: (x[0], x[1] + 5))  # Add 5 to each age\n",
        "print(\"Mapped RDD:\", mapped_rdd.collect())"
      ],
      "metadata": {
        "colab": {
          "base_uri": "https://localhost:8080/"
        },
        "id": "6m74MfxIEjhH",
        "outputId": "e54b7cbc-2859-462b-a204-5664e08488f8"
      },
      "execution_count": 16,
      "outputs": [
        {
          "output_type": "stream",
          "name": "stdout",
          "text": [
            "Mapped RDD: [('Alice', 28), ('Bob', 50), ('Cathy', 34), ('Alice', 35), ('Bob', 37), ('Alice', 35)]\n"
          ]
        }
      ]
    },
    {
      "cell_type": "code",
      "source": [
        "# 2. filter(): Filter elements based on a condition\n",
        "filtered_rdd = rdd.filter(lambda x: x[1] > 30)  # Keep elements where age > 30\n",
        "print(\"Filtered RDD:\", filtered_rdd.collect())"
      ],
      "metadata": {
        "colab": {
          "base_uri": "https://localhost:8080/"
        },
        "id": "nN50PijqEs50",
        "outputId": "fd1b9cff-241a-431c-8cf3-0aeec6eff835"
      },
      "execution_count": 17,
      "outputs": [
        {
          "output_type": "stream",
          "name": "stdout",
          "text": [
            "Filtered RDD: [('Bob', 45), ('Bob', 32)]\n"
          ]
        }
      ]
    },
    {
      "cell_type": "code",
      "source": [
        "# 3. flatMap(): Flatten the results\n",
        "flat_mapped_rdd = rdd.flatMap(lambda x: [x[0], x[1]])  # Split into individual items\n",
        "print(\"FlatMapped RDD:\", flat_mapped_rdd.collect())"
      ],
      "metadata": {
        "colab": {
          "base_uri": "https://localhost:8080/"
        },
        "id": "zgGcho5XEwrB",
        "outputId": "17da63f6-52ce-4fc2-d891-24053c5c1f2e"
      },
      "execution_count": 18,
      "outputs": [
        {
          "output_type": "stream",
          "name": "stdout",
          "text": [
            "FlatMapped RDD: ['Alice', 23, 'Bob', 45, 'Cathy', 29, 'Alice', 30, 'Bob', 32, 'Alice', 30]\n"
          ]
        }
      ]
    },
    {
      "cell_type": "code",
      "source": [
        "# 4. distinct(): Remove duplicates\n",
        "distinct_rdd = rdd.distinct()\n",
        "print(\"Distinct RDD:\", distinct_rdd.collect())\n"
      ],
      "metadata": {
        "colab": {
          "base_uri": "https://localhost:8080/"
        },
        "id": "qwQ60GkgEz-0",
        "outputId": "34aed1dd-f799-4944-c13f-dec52e6dff13"
      },
      "execution_count": 19,
      "outputs": [
        {
          "output_type": "stream",
          "name": "stdout",
          "text": [
            "Distinct RDD: [('Alice', 23), ('Bob', 45), ('Cathy', 29), ('Alice', 30), ('Bob', 32)]\n"
          ]
        }
      ]
    },
    {
      "cell_type": "code",
      "source": [
        "# 5. groupByKey(): Group values by key\n",
        "grouped_rdd = rdd.groupByKey().mapValues(list)\n",
        "print(\"Grouped by Key RDD:\", grouped_rdd.collect())"
      ],
      "metadata": {
        "colab": {
          "base_uri": "https://localhost:8080/"
        },
        "id": "adq2bNF3FFk4",
        "outputId": "f03d5866-38bc-4ef6-b310-6a8f177c57a6"
      },
      "execution_count": 20,
      "outputs": [
        {
          "output_type": "stream",
          "name": "stdout",
          "text": [
            "Grouped by Key RDD: [('Alice', [23, 30, 30]), ('Bob', [45, 32]), ('Cathy', [29])]\n"
          ]
        }
      ]
    },
    {
      "cell_type": "code",
      "source": [
        "# 6. reduceByKey(): Aggregate values by key\n",
        "reduced_rdd = rdd.reduceByKey(lambda x, y: x + y)  # Sum the values for each key\n",
        "print(\"Reduced by Key RDD:\", reduced_rdd.collect())"
      ],
      "metadata": {
        "colab": {
          "base_uri": "https://localhost:8080/"
        },
        "id": "vWzsW_kVFMBB",
        "outputId": "c7aaa322-6993-4924-9e71-f4b534674776"
      },
      "execution_count": 21,
      "outputs": [
        {
          "output_type": "stream",
          "name": "stdout",
          "text": [
            "Reduced by Key RDD: [('Alice', 83), ('Bob', 77), ('Cathy', 29)]\n"
          ]
        }
      ]
    },
    {
      "cell_type": "code",
      "source": [
        "# 7. sortByKey(): Sort by key\n",
        "sorted_rdd = rdd.map(lambda x: (x[1], x[0])).sortByKey()  # Sort by age\n",
        "print(\"Sorted by Key RDD:\", sorted_rdd.collect())"
      ],
      "metadata": {
        "colab": {
          "base_uri": "https://localhost:8080/"
        },
        "id": "TqbX21XNFRRt",
        "outputId": "a8942912-64d6-44e3-843d-1a2a7812c8ae"
      },
      "execution_count": 22,
      "outputs": [
        {
          "output_type": "stream",
          "name": "stdout",
          "text": [
            "Sorted by Key RDD: [(23, 'Alice'), (29, 'Cathy'), (30, 'Alice'), (30, 'Alice'), (32, 'Bob'), (45, 'Bob')]\n"
          ]
        }
      ]
    },
    {
      "cell_type": "code",
      "source": [
        "# 8. union(): Combine two RDDs\n",
        "rdd2 = sc.parallelize([(\"Eve\", 28), (\"Frank\", 33)])\n",
        "union_rdd = rdd.union(rdd2)\n",
        "print(\"Union RDD:\", union_rdd.collect())"
      ],
      "metadata": {
        "colab": {
          "base_uri": "https://localhost:8080/"
        },
        "id": "n4qoh6oIFU7p",
        "outputId": "80561eb1-ac8d-48d3-f565-3315425f2c8f"
      },
      "execution_count": 23,
      "outputs": [
        {
          "output_type": "stream",
          "name": "stdout",
          "text": [
            "Union RDD: [('Alice', 23), ('Bob', 45), ('Cathy', 29), ('Alice', 30), ('Bob', 32), ('Alice', 30), ('Eve', 28), ('Frank', 33)]\n"
          ]
        }
      ]
    },
    {
      "cell_type": "code",
      "source": [
        "# 9. intersection(): Common elements in two RDDs\n",
        "rdd3 = sc.parallelize([(\"Jake\", 30), (\"Cathy\", 29)])\n",
        "intersection_rdd = rdd.intersection(rdd3)\n",
        "print(\"Intersection RDD:\", intersection_rdd.collect())"
      ],
      "metadata": {
        "colab": {
          "base_uri": "https://localhost:8080/"
        },
        "id": "fVkFJx3sFZhQ",
        "outputId": "8ca56aca-6a79-4126-e95c-2255b866b26e"
      },
      "execution_count": 26,
      "outputs": [
        {
          "output_type": "stream",
          "name": "stdout",
          "text": [
            "Intersection RDD: [('Cathy', 29)]\n"
          ]
        }
      ]
    },
    {
      "cell_type": "code",
      "source": [
        "# 10. subtract(): Elements in RDD1 but not in RDD2\n",
        "subtract_rdd = rdd.subtract(rdd2)\n",
        "print(\"Subtract RDD:\", subtract_rdd.collect())"
      ],
      "metadata": {
        "colab": {
          "base_uri": "https://localhost:8080/"
        },
        "id": "4NzrkinmFrzX",
        "outputId": "88ff9e76-8642-49ed-9544-0f4fda38f59a"
      },
      "execution_count": 27,
      "outputs": [
        {
          "output_type": "stream",
          "name": "stdout",
          "text": [
            "Subtract RDD: [('Alice', 23), ('Bob', 45), ('Cathy', 29), ('Alice', 30), ('Alice', 30), ('Bob', 32)]\n"
          ]
        }
      ]
    },
    {
      "cell_type": "code",
      "source": [
        "# 11. cartesian(): Cartesian product of two RDDs\n",
        "cartesian_rdd = rdd.cartesian(rdd2)\n",
        "print(\"Cartesian RDD:\", cartesian_rdd.collect())"
      ],
      "metadata": {
        "colab": {
          "base_uri": "https://localhost:8080/"
        },
        "id": "KqPs_z3-FxY2",
        "outputId": "8916e4a3-75ac-4c41-9277-40d9d969b18d"
      },
      "execution_count": 28,
      "outputs": [
        {
          "output_type": "stream",
          "name": "stdout",
          "text": [
            "Cartesian RDD: [(('Alice', 23), ('Eve', 28)), (('Bob', 45), ('Eve', 28)), (('Cathy', 29), ('Eve', 28)), (('Alice', 23), ('Frank', 33)), (('Bob', 45), ('Frank', 33)), (('Cathy', 29), ('Frank', 33)), (('Alice', 30), ('Eve', 28)), (('Bob', 32), ('Eve', 28)), (('Alice', 30), ('Eve', 28)), (('Alice', 30), ('Frank', 33)), (('Bob', 32), ('Frank', 33)), (('Alice', 30), ('Frank', 33))]\n"
          ]
        }
      ]
    },
    {
      "cell_type": "code",
      "source": [
        "# 12. coalesce(): Reduce the number of partitions\n",
        "coalesced_rdd = rdd.coalesce(1)\n",
        "print(\"Number of Partitions after Coalesce:\", coalesced_rdd.getNumPartitions())"
      ],
      "metadata": {
        "colab": {
          "base_uri": "https://localhost:8080/"
        },
        "id": "paBdX5vwF6aA",
        "outputId": "f8011440-f23a-4d8a-9425-1869f872b039"
      },
      "execution_count": 29,
      "outputs": [
        {
          "output_type": "stream",
          "name": "stdout",
          "text": [
            "Number of Partitions after Coalesce: 1\n"
          ]
        }
      ]
    },
    {
      "cell_type": "code",
      "source": [
        "# 13. repartition(): Increase the number of partitions\n",
        "repartitioned_rdd = rdd.repartition(4)\n",
        "print(\"Number of Partitions after Repartition:\", repartitioned_rdd.getNumPartitions())\n"
      ],
      "metadata": {
        "colab": {
          "base_uri": "https://localhost:8080/"
        },
        "id": "ymily1oIF97N",
        "outputId": "b44cf073-73e7-4333-c90f-64b4d9275ab7"
      },
      "execution_count": 30,
      "outputs": [
        {
          "output_type": "stream",
          "name": "stdout",
          "text": [
            "Number of Partitions after Repartition: 4\n"
          ]
        }
      ]
    },
    {
      "cell_type": "markdown",
      "source": [
        "# **Actions**"
      ],
      "metadata": {
        "id": "KlVLBwpoGDcF"
      }
    },
    {
      "cell_type": "code",
      "source": [
        "# 14. collect(): Return all elements as a list\n",
        "print(\"Collected RDD:\", rdd.collect())"
      ],
      "metadata": {
        "colab": {
          "base_uri": "https://localhost:8080/"
        },
        "id": "lleCTwkKGG1J",
        "outputId": "d1680c95-727c-41c2-8684-248ed2d27418"
      },
      "execution_count": 31,
      "outputs": [
        {
          "output_type": "stream",
          "name": "stdout",
          "text": [
            "Collected RDD: [('Alice', 23), ('Bob', 45), ('Cathy', 29), ('Alice', 30), ('Bob', 32), ('Alice', 30)]\n"
          ]
        }
      ]
    },
    {
      "cell_type": "code",
      "source": [
        "# 15. count(): Count the number of elements\n",
        "print(\"Count of elements:\", rdd.count())"
      ],
      "metadata": {
        "colab": {
          "base_uri": "https://localhost:8080/"
        },
        "id": "egROtI3xGMbm",
        "outputId": "6d0cdc79-7dc3-444c-a6a9-1c6d08a7fd2e"
      },
      "execution_count": 32,
      "outputs": [
        {
          "output_type": "stream",
          "name": "stdout",
          "text": [
            "Count of elements: 6\n"
          ]
        }
      ]
    },
    {
      "cell_type": "code",
      "source": [
        "# 16. first(): Get the first element\n",
        "print(\"First element:\", rdd.first())\n"
      ],
      "metadata": {
        "colab": {
          "base_uri": "https://localhost:8080/"
        },
        "id": "7RHzzhPLGPOt",
        "outputId": "ffe2d0f5-344e-4084-f660-a0ad253cb6f4"
      },
      "execution_count": 33,
      "outputs": [
        {
          "output_type": "stream",
          "name": "stdout",
          "text": [
            "First element: ('Alice', 23)\n"
          ]
        }
      ]
    },
    {
      "cell_type": "code",
      "source": [
        "# 17. take(): Get the first n elements\n",
        "print(\"Take first 3 elements:\", rdd.take(3))\n",
        "\n"
      ],
      "metadata": {
        "colab": {
          "base_uri": "https://localhost:8080/"
        },
        "id": "NQUuhPceGRpI",
        "outputId": "3a4dc58b-abc7-413c-e973-7f1fad32d92d"
      },
      "execution_count": 34,
      "outputs": [
        {
          "output_type": "stream",
          "name": "stdout",
          "text": [
            "Take first 3 elements: [('Alice', 23), ('Bob', 45), ('Cathy', 29)]\n"
          ]
        }
      ]
    },
    {
      "cell_type": "code",
      "source": [
        "# 18. reduce(): Aggregate all elements\n",
        "sum_of_ages = rdd.map(lambda x: x[1]).reduce(lambda x, y: x + y)\n",
        "print(\"Sum of ages:\", sum_of_ages)"
      ],
      "metadata": {
        "colab": {
          "base_uri": "https://localhost:8080/"
        },
        "id": "mmr4KQ7jGT0d",
        "outputId": "a96f5f6d-ef9a-449b-b12a-e2e7a8238276"
      },
      "execution_count": 35,
      "outputs": [
        {
          "output_type": "stream",
          "name": "stdout",
          "text": [
            "Sum of ages: 189\n"
          ]
        }
      ]
    },
    {
      "cell_type": "code",
      "source": [
        "# Define the function to print each element\n",
        "def print_element(x):\n",
        "    print(x)\n",
        "\n",
        "# Collect the data from RDD to the driver and print each element\n",
        "rdd_contents = rdd.collect()\n",
        "for element in rdd_contents:\n",
        "    print_element(element)"
      ],
      "metadata": {
        "colab": {
          "base_uri": "https://localhost:8080/"
        },
        "id": "rzHwPL1EGXMu",
        "outputId": "857f59d0-708f-4bf1-a10f-80c3689d38d8"
      },
      "execution_count": 40,
      "outputs": [
        {
          "output_type": "stream",
          "name": "stdout",
          "text": [
            "('Alice', 23)\n",
            "('Bob', 45)\n",
            "('Cathy', 29)\n",
            "('Alice', 30)\n",
            "('Bob', 32)\n",
            "('Alice', 30)\n"
          ]
        }
      ]
    },
    {
      "cell_type": "code",
      "source": [
        "# Stop the SparkContext\n",
        "sc.stop()"
      ],
      "metadata": {
        "id": "gji5u3sNG30D"
      },
      "execution_count": 42,
      "outputs": []
    }
  ],
  "metadata": {
    "kernelspec": {
      "display_name": "base",
      "language": "python",
      "name": "python3"
    },
    "language_info": {
      "codemirror_mode": {
        "name": "ipython",
        "version": 3
      },
      "file_extension": ".py",
      "mimetype": "text/x-python",
      "name": "python",
      "nbconvert_exporter": "python",
      "pygments_lexer": "ipython3",
      "version": "3.9.13"
    },
    "colab": {
      "provenance": []
    }
  },
  "nbformat": 4,
  "nbformat_minor": 0
}